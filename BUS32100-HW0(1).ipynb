{
 "cells": [
  {
   "cell_type": "markdown",
   "metadata": {},
   "source": [
    "# BUS32100, HW 0\n",
    "\n",
    "Please follow the directions on Canvas for how to download/upload your homework. Keep your output displayed to make grading easier for us! "
   ]
  },
  {
   "cell_type": "markdown",
   "metadata": {},
   "source": [
    "### 1) Lists in Python"
   ]
  },
  {
   "cell_type": "markdown",
   "metadata": {},
   "source": [
    "### 1a"
   ]
  },
  {
   "cell_type": "code",
   "execution_count": 19,
   "metadata": {},
   "outputs": [],
   "source": [
    "# todo: create several variables in Python\n",
    "Me = \"Kirk Petrowitz\"\n",
    "Age = 30\n",
    "Drink = \"Coffee\"\n",
    "Pi = 3.14"
   ]
  },
  {
   "cell_type": "markdown",
   "metadata": {},
   "source": [
    "### 1b"
   ]
  },
  {
   "cell_type": "code",
   "execution_count": 22,
   "metadata": {},
   "outputs": [],
   "source": [
    "# todo: create several lists in Python, some with homogenous types and some with heterogenous types\n",
    "Classes = [\"Competitive Strategy\", \"Data Analysis with R and Python\"]\n",
    "Pastries = [\"Croissants\", \"Brownies\", \"Cookies\"]\n",
    "Random_Numbers_More_Or_Less = [5, 210078, 349]\n",
    "Part_1a = [\"Kirk Petrowitz\", 30, \"Coffee\", 3.14]"
   ]
  },
  {
   "cell_type": "markdown",
   "metadata": {},
   "source": [
    "### 1c"
   ]
  },
  {
   "cell_type": "code",
   "execution_count": 29,
   "metadata": {},
   "outputs": [
    {
     "data": {
      "text/plain": [
       "['elevate', 'Bears', '2nd City']"
      ]
     },
     "execution_count": 29,
     "metadata": {},
     "output_type": "execute_result"
    }
   ],
   "source": [
    "# todo: return a slice from one of your Python lists (slice can be any length you choose. experiment!)\n",
    "chicago_list = [\"elevate\", 606, \"Bears\", 515, \"2nd City\", \"Fall Out Boy\"]\n",
    "\n",
    "#sequence [start: stop: step]\n",
    "slice_list1 = chicago_list[0:6:]\n",
    "slice_list2 = chicago_list[1:5]\n",
    "slice_list3 = chicago_list[0:6:2]\n",
    "\n",
    "slice_list3"
   ]
  },
  {
   "cell_type": "markdown",
   "metadata": {},
   "source": [
    "### 1d"
   ]
  },
  {
   "cell_type": "code",
   "execution_count": 39,
   "metadata": {},
   "outputs": [
    {
     "data": {
      "text/plain": [
       "<function __main__.net_income(n)>"
      ]
     },
     "execution_count": 39,
     "metadata": {},
     "output_type": "execute_result"
    }
   ],
   "source": [
    "# todo: return a slice of a list but only return every third element\n",
    "slice_list4 = chicago_list[2:6:3]\n",
    "\n",
    "slice_list4\n"
   ]
  },
  {
   "cell_type": "markdown",
   "metadata": {},
   "source": [
    "## 2) If-Else statements in Python"
   ]
  },
  {
   "cell_type": "markdown",
   "metadata": {},
   "source": [
    "### 2a"
   ]
  },
  {
   "cell_type": "code",
   "execution_count": 45,
   "metadata": {},
   "outputs": [
    {
     "name": "stdout",
     "output_type": "stream",
     "text": [
      "good\n"
     ]
    }
   ],
   "source": [
    "# todo: write an if-else statement using only an if and an else clause\n",
    "\n",
    "def net_income(n):\n",
    "    if n > 0:\n",
    "        print (\"good\")\n",
    "    else:\n",
    "        print (\"bad\")\n",
    "\n",
    "net_income(20)"
   ]
  },
  {
   "cell_type": "markdown",
   "metadata": {},
   "source": [
    "### 2b"
   ]
  },
  {
   "cell_type": "code",
   "execution_count": 62,
   "metadata": {},
   "outputs": [
    {
     "name": "stdout",
     "output_type": "stream",
     "text": [
      "breakeven\n"
     ]
    }
   ],
   "source": [
    "# todo: write an if-else statement but using an if, elif, and else clauses\n",
    "\n",
    "n = 0\n",
    "\n",
    "if n > 0:\n",
    "   print (\"gain\")\n",
    "elif n < 0:\n",
    "   print (\"loss\")\n",
    "else:\n",
    "   print (\"breakeven\")\n"
   ]
  },
  {
   "cell_type": "markdown",
   "metadata": {},
   "source": [
    "## 3) Functions in Python"
   ]
  },
  {
   "cell_type": "markdown",
   "metadata": {},
   "source": [
    "### 3a"
   ]
  },
  {
   "cell_type": "code",
   "execution_count": 63,
   "metadata": {},
   "outputs": [
    {
     "name": "stdout",
     "output_type": "stream",
     "text": [
      "The larger number is 2\n"
     ]
    }
   ],
   "source": [
    "# todo: write a function that takes in two integers and prints out which one is larger\n",
    "\n",
    "def list(a, b):\n",
    "    if a > b:\n",
    "        print(f\"The larger number is {a}\")\n",
    "    elif b > a:\n",
    "        print(f\"The larger number is {b}\")\n",
    "    else:\n",
    "        print(\"Both numbers are equal\")\n",
    "\n",
    "list(1, 2)"
   ]
  },
  {
   "cell_type": "markdown",
   "metadata": {},
   "source": [
    "### 3b"
   ]
  },
  {
   "cell_type": "code",
   "execution_count": 66,
   "metadata": {},
   "outputs": [
    {
     "name": "stdout",
     "output_type": "stream",
     "text": [
      "...meht fo eno ton si gnidoc yletanutrofnU .uoy ekil elpoep rof eramthgin a em ekam taht sllikS .slliks fo tes ralucitrap yrev a evah I\n"
     ]
    }
   ],
   "source": [
    "# todo: write a function that takes in a string and prints out the characters in backwards order\n",
    "\n",
    "def print_reverse(input_string):\n",
    "    reversed_string = input_string[::-1]\n",
    "    print(reversed_string)\n",
    "\n",
    "print_reverse(\"I have a very particular set of skills. Skills that make me a nightmare for people like you. Unfortunately coding is not one of them...\")\n",
    "\n"
   ]
  },
  {
   "cell_type": "markdown",
   "metadata": {},
   "source": [
    "### 3c"
   ]
  },
  {
   "cell_type": "code",
   "execution_count": 8,
   "metadata": {},
   "outputs": [
    {
     "data": {
      "text/plain": [
       "'Yo* don’t kn*w about r*al loss, ’caus* it *nly occurs when yo*’v* lov*d someth*ng more than y*u love y**rself. *nd I d**bt y**’ve *v*r d*red to lov* *nyb*dy that m*ch.'"
      ]
     },
     "execution_count": 8,
     "metadata": {},
     "output_type": "execute_result"
    }
   ],
   "source": [
    "# todo: write a function that takes in a long string (several sentences) and *returns* the string (doesn't print it out)\n",
    "# with random vowels replaced with '*' to make it look hilariously censored\n",
    "# you can replace all vowels or only some vowels, up to you\n",
    "\n",
    "import random\n",
    "\n",
    "def replace_vowels_with_asterisk(input_string):\n",
    "    vowels = 'aeiouAEIOU'\n",
    "    output_string = ''\n",
    "    for char in input_string:\n",
    "        if char in vowels and random.choice([True, False]):\n",
    "            output_string += '*'\n",
    "        else:\n",
    "            output_string += char\n",
    "    return output_string\n",
    "\n",
    "input_string = \"You don’t know about real loss, ’cause it only occurs when you’ve loved something more than you love yourself. And I doubt you’ve ever dared to love anybody that much.\"\n",
    "output = replace_vowels_with_asterisk(input_string)\n",
    "output\n",
    "\n"
   ]
  },
  {
   "cell_type": "markdown",
   "metadata": {},
   "source": [
    "### 3d"
   ]
  },
  {
   "cell_type": "code",
   "execution_count": 11,
   "metadata": {},
   "outputs": [
    {
     "data": {
      "text/plain": [
       "['Apple', 'Banana', 'Grapefruit', 'Watermelon']"
      ]
     },
     "execution_count": 11,
     "metadata": {},
     "output_type": "execute_result"
    }
   ],
   "source": [
    "# todo: Write a function that:\n",
    "# Takes in two inputs: a list of words and an integer n\n",
    "# Returns a new list containing only the words that have a length greater than or equal to n\n",
    "\n",
    "def filter_words_by_length(word_list, n):\n",
    "    result = [word for word in word_list if len(word) >= n]\n",
    "    return result\n",
    "words = [\"Fig\", \"Kiwi\", \"Apple\", \"Banana\", \"Grapefruit\", \"Watermelon\"]\n",
    "n = 5\n",
    "filtered_words = filter_words_by_length(words, n)\n",
    "filtered_words"
   ]
  },
  {
   "cell_type": "markdown",
   "metadata": {},
   "source": [
    "## 3e"
   ]
  },
  {
   "cell_type": "code",
   "execution_count": 13,
   "metadata": {},
   "outputs": [
    {
     "name": "stdout",
     "output_type": "stream",
     "text": [
      "Even numbers: [2, 4, 6, 8, 10]\n",
      "Odd numbers: [1, 3, 5, 7, 9]\n"
     ]
    }
   ],
   "source": [
    "# todo: Write a function that:\n",
    "# Takes in a list of integers\n",
    "# Returns two lists: one list with all the even numbers, and one list with all the odd numbers\n",
    "\n",
    "def separate_even_and_odd(numbers):\n",
    "    even_numbers = []\n",
    "    odd_numbers = []\n",
    "    \n",
    "    for number in numbers:\n",
    "        if number % 2 == 0:\n",
    "            even_numbers.append(number)\n",
    "        else:\n",
    "            odd_numbers.append(number)\n",
    "    \n",
    "    return even_numbers, odd_numbers\n",
    "\n",
    "numbers = [1, 2, 3, 4, 5, 6, 7, 8, 9, 10]\n",
    "even_numbers, odd_numbers = separate_even_and_odd(numbers)\n",
    "print(\"Even numbers:\", even_numbers)\n",
    "print(\"Odd numbers:\", odd_numbers)\n"
   ]
  },
  {
   "cell_type": "code",
   "execution_count": null,
   "metadata": {},
   "outputs": [],
   "source": []
  }
 ],
 "metadata": {
  "kernelspec": {
   "display_name": "Python 3 (ipykernel)",
   "language": "python",
   "name": "python3"
  },
  "language_info": {
   "codemirror_mode": {
    "name": "ipython",
    "version": 3
   },
   "file_extension": ".py",
   "mimetype": "text/x-python",
   "name": "python",
   "nbconvert_exporter": "python",
   "pygments_lexer": "ipython3",
   "version": "3.11.9"
  }
 },
 "nbformat": 4,
 "nbformat_minor": 4
}
