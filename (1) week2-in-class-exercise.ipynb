{
 "cells": [
  {
   "cell_type": "markdown",
   "metadata": {},
   "source": [
    "# BUS 32100, Week 2\n",
    "# In-class exercise\n",
    "\n",
    "------------------"
   ]
  },
  {
   "cell_type": "markdown",
   "metadata": {},
   "source": [
    "1. Write a function that calculates the sum of all even numbers in a list. \n",
    "    * Even numbers are those that, when divided by 2, have a remainder of 0.\n",
    "    * You can't use normal division because computers don't use exact precision, e.g. if you divide 4/2, you might get 0.00000000000001 because of normal computer imprecission.\n",
    "    * What other kind of division is there that gives you the remainder?\n",
    "<br><br>\n",
    "\n",
    "2. Write a function that takes in a list of words and returns the longest word (the one with the highest number of characters).\n",
    "    * Hint: To get the length of a word, you can use the len() function, e.g. `length = len(my_word)`\n",
    "<br><br>\n",
    "3. Write a function called `filter_primes` that takes a list of integers and returns a new list containing only the prime numbers from the original list. **Bonus task:** Can you use two functions to accomplish this? The first function, called a _helper function_, can be used to check whether a single number is a prime. Then a second function can use the helper function and loop through a list.\n",
    "    * First, make sure you remember what a prime number is. How can you check, without coding, if a number is prime? Try doing this by hand first for a few numbers before trying to code it.\n",
    "    * Write a helper function that takes as input an integer and returns a True/False of whether that number is a prime.\n",
    "    * Write a second function that relies on the helper function to loop through a list and creates a new list that includes only the prime numbers.\n",
    "<br><br>\n",
    "\n",
    "4. Write a function that takes a list of strings and returns a new list where each string is reversed.\n",
    "   * Strings can be treated like lists in that you can take values from a given index, e.g. `my_string[0]` and `my_string[-1]`\n",
    "   * Remember, to go over a list from the _back_ (last item), you can use negative numbers, e.g. `my_list[-2]`\n",
    "<br><br>\n",
    "\n",
    "5. **Difficult.** Write a function that finds the mode (most frequently occurring element) in a list of numbers. If multiple numbers have the same highest frequency, return all of them in a list.\n",
    "    * **Hint: This will require the use of a Python dictionary, which we haven't talked about yet.**\n",
    "    * A dictionary is a container that looks like this: `my_dict = { 'key' : 'value'}`\n",
    "    * Your dictionary should look something like this `counts = { 'list_element': 1, 'list_element_2' : 4}`\n",
    "    * Look into how to add new `keys` to a dictionary; how to update a value for a given key; how to get the max value in a dictionary\n",
    "<br><br> \n",
    "6. **Difficult.** Write a function that counts the total number of vowels in a list of words. Vowels are 'a', 'e', 'i', 'o', 'u'. Use the same concept of dictionaries as in #5."
   ]
  },
  {
   "cell_type": "code",
   "execution_count": null,
   "metadata": {},
   "outputs": [],
   "source": []
  }
 ],
 "metadata": {
  "kernelspec": {
   "display_name": "Python 3 (ipykernel)",
   "language": "python",
   "name": "python3"
  },
  "language_info": {
   "codemirror_mode": {
    "name": "ipython",
    "version": 3
   },
   "file_extension": ".py",
   "mimetype": "text/x-python",
   "name": "python",
   "nbconvert_exporter": "python",
   "pygments_lexer": "ipython3",
   "version": "3.11.9"
  }
 },
 "nbformat": 4,
 "nbformat_minor": 4
}
